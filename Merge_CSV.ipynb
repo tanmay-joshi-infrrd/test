{
  "nbformat": 4,
  "nbformat_minor": 0,
  "metadata": {
    "colab": {
      "name": "Merge_CSVNew.ipynb",
      "provenance": [],
      "collapsed_sections": []
    },
    "kernelspec": {
      "name": "python3",
      "display_name": "Python 3"
    },
    "language_info": {
      "name": "python"
    }
  },
  "cells": [
    {
      "cell_type": "code",
      "execution_count": 69,
      "metadata": {
        "id": "wcI5Ll3McmR7"
      },
      "outputs": [],
      "source": [
        "import csv\n",
        "import os\n",
        "import pandas as pd"
      ]
    },
    {
      "cell_type": "code",
      "source": [
        "mypath='/content/drive/MyDrive/Merge_CSV'\n",
        "os.chdir(mypath)"
      ],
      "metadata": {
        "id": "C_ze0ZSF1YaQ"
      },
      "execution_count": 70,
      "outputs": []
    },
    {
      "cell_type": "code",
      "source": [
        "def new_data_file(fname):\n",
        "  data = pd.read_csv(f'{fname}')\n",
        "  with open('new_master.csv', 'w') as csv_write:\n",
        "    new_data=csv.writer(csv_write)\n",
        "    for x in range(len(data.index)):\n",
        "      lst=[]\n",
        "      for y in range(4):\n",
        "        head, tail = os.path.split(data.iloc[x,y])\n",
        "        lst.append(\"home/infrrd/new_data/\" + tail)\n",
        "      lst.append(data.iloc[x,4])\n",
        "      new_data.writerow(lst)\n"
      ],
      "metadata": {
        "id": "EA0M-Nf2iDBA"
      },
      "execution_count": 71,
      "outputs": []
    },
    {
      "cell_type": "code",
      "source": [
        "def pass_file(file_list):\n",
        "  for files in file_list:\n",
        "    new_data_file(files)"
      ],
      "metadata": {
        "id": "dS9fEw1A0Ess"
      },
      "execution_count": 72,
      "outputs": []
    },
    {
      "cell_type": "code",
      "source": [
        "files = [f for f in os.listdir(mypath) if os.path.isfile(os.path.join(mypath, f))]\n",
        "pass_file(files)"
      ],
      "metadata": {
        "id": "2rW3ifkseKt8"
      },
      "execution_count": 73,
      "outputs": []
    },
    {
      "cell_type": "code",
      "source": [
        ""
      ],
      "metadata": {
        "id": "5luJryZFeJsT"
      },
      "execution_count": 35,
      "outputs": []
    }
  ]
}